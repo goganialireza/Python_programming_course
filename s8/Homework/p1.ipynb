{
 "cells": [
  {
   "cell_type": "code",
   "execution_count": 1,
   "metadata": {},
   "outputs": [
    {
     "data": {
      "text/plain": [
       "['v', 5, 1, 'a']"
      ]
     },
     "execution_count": 1,
     "metadata": {},
     "output_type": "execute_result"
    }
   ],
   "source": [
    "#exerise 1\n",
    "#Write a function that takes a list as an input argument and outputs a list that is the reverse of the first list.\n",
    "\n",
    "def f(a):\n",
    "    return a[::-1]\n",
    "\n",
    "f(['a', 1, 5, 'v'])"
   ]
  },
  {
   "cell_type": "code",
   "execution_count": null,
   "metadata": {},
   "outputs": [
    {
     "data": {
      "text/plain": [
       "5"
      ]
     },
     "execution_count": 13,
     "metadata": {},
     "output_type": "execute_result"
    }
   ],
   "source": [
    "#exercise 2\n",
    "#Write a function that takes a list as a combination of strings and integers and outputs the largest value of the list\n",
    "#(largest value = string with the largest length or integer with the largest value)\n",
    "\n",
    "#using for loop just string\n",
    "def f(a):\n",
    "    x = 0\n",
    "    for i in a:\n",
    "         if len(i) > x:\n",
    "             x = len(i)\n",
    "\n",
    "    return x\n",
    "\n",
    "f(['2', 'dddfe', '4', 'd'])\n",
    "\n"
   ]
  },
  {
   "cell_type": "code",
   "execution_count": null,
   "metadata": {},
   "outputs": [
    {
     "name": "stdout",
     "output_type": "stream",
     "text": [
      "6\n"
     ]
    }
   ],
   "source": [
    "#using for loop just list\n",
    "\n",
    "def f(a):\n",
    "    max_ = a[0]     #or: max_ = 0\n",
    "    for i in a:\n",
    "        if(i > max_):\n",
    "           max_ = i\n",
    "    return max_ \n",
    "\n",
    "\n",
    "list1 = [1,4,5,2,6]\n",
    "result = f(list1)\n",
    "print(result)"
   ]
  },
  {
   "cell_type": "code",
   "execution_count": 4,
   "metadata": {},
   "outputs": [
    {
     "name": "stdout",
     "output_type": "stream",
     "text": [
      "99\n"
     ]
    }
   ],
   "source": [
    "#using library\n",
    "\n",
    "from functools import reduce\n",
    "\n",
    "list1 = [-1, 3, 7, 99, 0]\n",
    "\n",
    "print(reduce(max, list1))"
   ]
  },
  {
   "cell_type": "code",
   "execution_count": 17,
   "metadata": {},
   "outputs": [
    {
     "name": "stdout",
     "output_type": "stream",
     "text": [
      "The largest number is: 10\n"
     ]
    }
   ],
   "source": [
    "#using max() function for list\n",
    "\n",
    "list1 = [3, 2, 8, 5, 10, 6]\n",
    "\n",
    "max_number = max(list1)\n",
    "\n",
    "print(\"The largest number is:\", max_number)"
   ]
  },
  {
   "cell_type": "code",
   "execution_count": null,
   "metadata": {},
   "outputs": [],
   "source": [
    "#using max() function for string\n",
    "\n",
    "string = [\"Find\", \"maximum\", \"string\", \"from\", \"list\"]\n",
    "\n",
    "max_string = max(string, key=len)\n",
    "\n",
    "print(\"The largest string is:\", max_string)"
   ]
  },
  {
   "cell_type": "code",
   "execution_count": 6,
   "metadata": {},
   "outputs": [
    {
     "name": "stdout",
     "output_type": "stream",
     "text": [
      "Largest element is: 99\n"
     ]
    }
   ],
   "source": [
    "#using sort() function\n",
    "\n",
    "list1 = [10, 20, 4, 45, 99]\n",
    "\n",
    "list1.sort()\n",
    "\n",
    "print(\"Largest element is:\", list1[-1])"
   ]
  },
  {
   "cell_type": "code",
   "execution_count": 9,
   "metadata": {},
   "outputs": [
    {
     "name": "stdout",
     "output_type": "stream",
     "text": [
      "41\n"
     ]
    }
   ],
   "source": [
    "#using sorted() Function\n",
    "\n",
    "list1=[1,4,22,41,5,2]\n",
    "\n",
    "sorted_list = sorted(list1)\n",
    "\n",
    "result = sorted_list[-1]\n",
    "\n",
    "print(result)"
   ]
  },
  {
   "cell_type": "code",
   "execution_count": null,
   "metadata": {},
   "outputs": [
    {
     "ename": "SyntaxError",
     "evalue": "invalid syntax. Maybe you meant '==' or ':=' instead of '='? (497522608.py, line 8)",
     "output_type": "error",
     "traceback": [
      "\u001b[1;36m  Cell \u001b[1;32mIn[1], line 8\u001b[1;36m\u001b[0m\n\u001b[1;33m    if max(a) > (x = len(i)) or (x = len(i)) > max(a)\u001b[0m\n\u001b[1;37m                 ^\u001b[0m\n\u001b[1;31mSyntaxError\u001b[0m\u001b[1;31m:\u001b[0m invalid syntax. Maybe you meant '==' or ':=' instead of '='?\n"
     ]
    }
   ],
   "source": [
    "#wrong code - test\n",
    "def f(a):\n",
    "    x = 0\n",
    "    for i in a:\n",
    "         if len(i) > x:\n",
    "             x = len(i)\n",
    "    for i in a:\n",
    "        max(a)\n",
    "        if max(a) > (x = len(i)) or (x = len(i)) > max(a)\n",
    "    return x\n",
    "\n",
    "f(['2', 'dddfe', '4', 'd'])"
   ]
  },
  {
   "cell_type": "code",
   "execution_count": 41,
   "metadata": {},
   "outputs": [
    {
     "name": "stdout",
     "output_type": "stream",
     "text": [
      "0\n",
      "0\n",
      "1\n",
      "2\n",
      "Maximum value: AA\n"
     ]
    }
   ],
   "source": [
    "def max_string_or_int(lst):\n",
    "    max_str = \"\"\n",
    "    max_int = 0 \n",
    "\n",
    "    for item in lst:\n",
    "        if isinstance(item, str):         # Check if the item is a string\n",
    "            if len(item) > len(max_str):  \n",
    "                max_str = item\n",
    "        elif isinstance(item, int):       # Check if the item is an integer\n",
    "            if item > max_int: \n",
    "                max_int = item\n",
    "\n",
    "    print(max_int)\n",
    "    print(str(max_int))\n",
    "    print(len(str(max_int)))\n",
    "    print(len(max_str))\n",
    "\n",
    "# Now we determine which is larger: the string based on length or the integer based on value\n",
    "# We compare string length with the number of digits in max_int\n",
    "    if len(max_str) > len(str(max_int)):  \n",
    "        return max_str\n",
    "    else:\n",
    "        return max_int\n",
    "\n",
    "# Example usage\n",
    "mixed_list = [\"AA\", -1, \"BB\", 000, \"CC\", -2]\n",
    "result = max_string_or_int(mixed_list)\n",
    "print(\"Maximum value:\", result)\n"
   ]
  },
  {
   "cell_type": "code",
   "execution_count": null,
   "metadata": {},
   "outputs": [
    {
     "name": "stdout",
     "output_type": "stream",
     "text": [
      "[123446]\n"
     ]
    },
    {
     "data": {
      "text/plain": [
       "8"
      ]
     },
     "execution_count": 7,
     "metadata": {},
     "output_type": "execute_result"
    }
   ],
   "source": [
    "#test\n",
    "a = [123446]\n",
    "print(str(a))\n",
    "len(str(a))"
   ]
  },
  {
   "cell_type": "code",
   "execution_count": 62,
   "metadata": {},
   "outputs": [
    {
     "name": "stdout",
     "output_type": "stream",
     "text": [
      "your negative point is 20\n",
      "your license has been revoked\n",
      "your pace is: 120\n"
     ]
    }
   ],
   "source": [
    "#exercise 3\n",
    "\n",
    "def f(a):\n",
    "    if a < 70:\n",
    "        print('good')\n",
    "    else:\n",
    "        x = (a - 70) // 5 * 2\n",
    "        print(f'your negative point is {x}')     #also: print('your negative point is ', x)\n",
    "        if x > 12:\n",
    "            print('your license has been revoked')\n",
    "\n",
    "    return a\n",
    "\n",
    "n = int(input('what is your pace? '))\n",
    "\n",
    "print('your pace is:', f(n))"
   ]
  },
  {
   "cell_type": "code",
   "execution_count": null,
   "metadata": {},
   "outputs": [
    {
     "name": "stdout",
     "output_type": "stream",
     "text": [
      "1.4142135623730951\n"
     ]
    }
   ],
   "source": [
    "#exercise 4\n",
    "#Write a function that calculates the Euclidean distance of two points a, b in two-dimensional space\n",
    "\n",
    "def f(a, b, c, d):\n",
    "    r  = ((a - b) ** 2 + (c - d) ** 2) ** 0.5\n",
    "    return r\n",
    "\n",
    "r = f(4, 5, 7, 6)\n",
    "print(r)"
   ]
  },
  {
   "cell_type": "code",
   "execution_count": 86,
   "metadata": {},
   "outputs": [
    {
     "name": "stdout",
     "output_type": "stream",
     "text": [
      "False\n"
     ]
    }
   ],
   "source": [
    "#exercise 5\n",
    "#Write a function that takes three points in two-dimensional space and determines whether these three points are aligned or not\n",
    "\n",
    "def f(x_1, y_1, x_2, y_2, x_3, y_3):\n",
    "    a = (y_2 - y_1) / (x_2 - x_1)\n",
    "    b = (y_3 - y_2) / (x_3 - x_2)\n",
    "    m = a == b\n",
    "    return m\n",
    "\n",
    "print(f(4, 7, 8, 5, 2, 6))"
   ]
  },
  {
   "cell_type": "code",
   "execution_count": null,
   "metadata": {},
   "outputs": [
    {
     "name": "stdout",
     "output_type": "stream",
     "text": [
      "Triangle\n",
      "False\n"
     ]
    }
   ],
   "source": [
    "#exercise 6\n",
    "\n",
    "def f(x_1, y_1, x_2, y_2, x_3, y_3):\n",
    "    a = (y_2 - y_1) / (x_2 - x_1)\n",
    "    b = (y_3 - y_2) / (x_3 - x_2)\n",
    "    c = (y_3 - y_1) / (x_3 - x_1)\n",
    "    m = a == b\n",
    "    if m == False:\n",
    "        if a == b or b == c or a == c:\n",
    "            print('Isosceles Triangle')\n",
    "        elif a == b and b == c and a == c:\n",
    "            print('Equilateral Triangle')\n",
    "        elif c == (a ** 2 + b ** 2) ** 0.5 or a == (c ** 2 + b ** 2) or b == (a ** 2 + c ** 2):\n",
    "            print('Right Triangle')\n",
    "        else:\n",
    "            print('Triangle')\n",
    "    return m\n",
    "\n",
    "print(f(4, 7, 8, 5, 2, 6))"
   ]
  },
  {
   "cell_type": "code",
   "execution_count": null,
   "metadata": {},
   "outputs": [
    {
     "name": "stdout",
     "output_type": "stream",
     "text": [
      "1\n",
      "2\n",
      "{1: 'a', 2: 'b'}\n"
     ]
    }
   ],
   "source": [
    "#exercise 7\n",
    "#test \n",
    "\n",
    "a = {'a': 1, 'b':2}\n",
    "b = {}\n",
    "\n",
    "for k, v in a.items():\n",
    "    b[v] = k\n",
    "\n",
    "print(b)"
   ]
  },
  {
   "cell_type": "code",
   "execution_count": null,
   "metadata": {},
   "outputs": [
    {
     "name": "stdout",
     "output_type": "stream",
     "text": [
      "{1: 'a', 2: 'b'}\n"
     ]
    }
   ],
   "source": [
    "#exercise 7\n",
    "\n",
    "def f(a):\n",
    "    b = {}\n",
    "    for k, v in a.items():\n",
    "        b[v] = k\n",
    "\n",
    "    return b\n",
    "\n",
    "a = {'a': 1, 'b':2}\n",
    "print(f(a))\n"
   ]
  },
  {
   "cell_type": "code",
   "execution_count": null,
   "metadata": {},
   "outputs": [],
   "source": [
    "#exercise 8\n",
    "\n"
   ]
  }
 ],
 "metadata": {
  "kernelspec": {
   "display_name": "Python 3",
   "language": "python",
   "name": "python3"
  },
  "language_info": {
   "codemirror_mode": {
    "name": "ipython",
    "version": 3
   },
   "file_extension": ".py",
   "mimetype": "text/x-python",
   "name": "python",
   "nbconvert_exporter": "python",
   "pygments_lexer": "ipython3",
   "version": "3.10.11"
  }
 },
 "nbformat": 4,
 "nbformat_minor": 2
}
