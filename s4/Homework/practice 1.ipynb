{
 "cells": [
  {
   "cell_type": "code",
   "execution_count": 5,
   "metadata": {},
   "outputs": [
    {
     "name": "stdout",
     "output_type": "stream",
     "text": [
      "81\n",
      "13.365\n",
      "82\n",
      "13.530000000000001\n",
      "83\n",
      "13.695\n",
      "84\n",
      "13.860000000000001\n",
      "85\n",
      "14.025\n",
      "86\n",
      "14.190000000000001\n",
      "87\n",
      "14.355\n",
      "88\n",
      "14.520000000000001\n",
      "89\n",
      "14.685\n",
      "90\n",
      "14.850000000000001\n",
      "91\n",
      "15.015\n",
      "92\n",
      "15.180000000000001\n",
      "93\n",
      "15.345\n",
      "94\n",
      "15.510000000000002\n",
      "95\n",
      "15.675\n"
     ]
    }
   ],
   "source": [
    "#exercise 1\n",
    "\n",
    "e = 80\n",
    "m = 0\n",
    "\n",
    "for i in range(1, 16):\n",
    "    e += 1 \n",
    "    m = e * 0.165   \n",
    "    print(e)\n",
    "    print(m)\n",
    "\n"
   ]
  },
  {
   "cell_type": "code",
   "execution_count": 8,
   "metadata": {},
   "outputs": [
    {
     "name": "stdout",
     "output_type": "stream",
     "text": [
      "azerila\n"
     ]
    }
   ],
   "source": [
    "#exercise 2\n",
    "#write your name and convert\n",
    "#slicing\n",
    "\n",
    "a = 'alireza'\n",
    "b = a[::-1]\n",
    "print (b) "
   ]
  },
  {
   "cell_type": "code",
   "execution_count": 13,
   "metadata": {},
   "outputs": [
    {
     "name": "stdout",
     "output_type": "stream",
     "text": [
      "a\n",
      "z\n",
      "e\n",
      "r\n",
      "i\n",
      "l\n",
      "a\n"
     ]
    }
   ],
   "source": [
    "#exercise 2\n",
    "#write your name and convert\n",
    "#loop\n",
    "\n",
    "a = 'alireza'\n",
    "\n",
    "for i in reversed(a):\n",
    "    print(i)\n"
   ]
  },
  {
   "cell_type": "code",
   "execution_count": 14,
   "metadata": {},
   "outputs": [
    {
     "name": "stdout",
     "output_type": "stream",
     "text": [
      "2.5\n"
     ]
    }
   ],
   "source": [
    "#exercise 3\n",
    "#Ganze Zahl\n",
    "#Mittelwert von ganzen Zahlen\n",
    "\n",
    "z = int(input('number?'))\n",
    "s = 0\n",
    "c = 0\n",
    "\n",
    "for i in range(1, z+1):\n",
    "    s += i\n",
    "    c += 1\n",
    "\n",
    "print(s/c)"
   ]
  },
  {
   "cell_type": "code",
   "execution_count": 22,
   "metadata": {},
   "outputs": [
    {
     "name": "stdout",
     "output_type": "stream",
     "text": [
      "24\n"
     ]
    }
   ],
   "source": [
    "#exercise 4\n",
    "#Fakultät \n",
    "#for loop\n",
    "\n",
    "a = 4\n",
    "b = 1\n",
    "\n",
    "for i in range(1, a+1):\n",
    "    b *= i\n",
    "\n",
    "print(b)"
   ]
  },
  {
   "cell_type": "code",
   "execution_count": 23,
   "metadata": {},
   "outputs": [
    {
     "name": "stdout",
     "output_type": "stream",
     "text": [
      "24\n"
     ]
    }
   ],
   "source": [
    "#exercise 4\n",
    "#Fakultät \n",
    "#while loop\n",
    "\n",
    "a = 4\n",
    "b = 1\n",
    "\n",
    "while a > 0:\n",
    "    b *= a\n",
    "    a -= 1\n",
    "\n",
    "print(b)"
   ]
  },
  {
   "cell_type": "code",
   "execution_count": 2,
   "metadata": {},
   "outputs": [
    {
     "name": "stdout",
     "output_type": "stream",
     "text": [
      "555874\n",
      "jhjhjjh\n"
     ]
    }
   ],
   "source": [
    "#exercise 5\n",
    "#giving a string includes digits and letters and divide the digits and letters seperetaly and add them to 2 seperate variables\n",
    "#such as: '24days2hours'\n",
    "\n",
    "v = input('enter:')\n",
    "digit = ''\n",
    "letter = ''\n",
    "\n",
    "for i in v:\n",
    "    if i.isdigit():\n",
    "        digit += i\n",
    "    else:\n",
    "        letter += i\n",
    "\n",
    "print(digit)\n",
    "print(letter)\n"
   ]
  },
  {
   "cell_type": "code",
   "execution_count": 5,
   "metadata": {},
   "outputs": [
    {
     "name": "stdout",
     "output_type": "stream",
     "text": [
      "1\n",
      "4\n",
      "9\n",
      "45\n",
      "52\n"
     ]
    }
   ],
   "source": [
    "#exercise 6\n",
    "#wrong code\n",
    "\n",
    "n = int(input('number?'))\n",
    "s = 0\n",
    "\n",
    "for i in range(n+1):\n",
    "    if i % 2 != 0:\n",
    "        s += i\n",
    "        print(s)\n",
    "        if i % 5 == 0:\n",
    "            s *= i\n",
    "            print(s)\n",
    "\n"
   ]
  },
  {
   "cell_type": "code",
   "execution_count": 6,
   "metadata": {},
   "outputs": [
    {
     "name": "stdout",
     "output_type": "stream",
     "text": [
      "1\n",
      "4\n",
      "9\n",
      "16\n"
     ]
    }
   ],
   "source": [
    "#exercise 6\n",
    "\n",
    "n = int(input('number?'))\n",
    "s = 0\n",
    "\n",
    "for i in range(n+1):\n",
    "    if i % 2 != 0:\n",
    "        s += i\n",
    "        print(s)\n",
    "if i % 5 == 0:\n",
    "    s *= i\n",
    "    print(s)"
   ]
  },
  {
   "cell_type": "code",
   "execution_count": 12,
   "metadata": {},
   "outputs": [
    {
     "data": {
      "text/plain": [
       "362880"
      ]
     },
     "execution_count": 12,
     "metadata": {},
     "output_type": "execute_result"
    }
   ],
   "source": [
    "#exercise 7\n",
    "\n",
    "n = input('number?')\n",
    "a = 1\n",
    "\n",
    "for i in n:\n",
    "    a *= int(i)\n",
    "    \n",
    "print(a)"
   ]
  },
  {
   "cell_type": "code",
   "execution_count": 15,
   "metadata": {},
   "outputs": [
    {
     "name": "stdout",
     "output_type": "stream",
     "text": [
      "362880\n"
     ]
    }
   ],
   "source": [
    "#extra exercise of 7\n",
    "\n",
    "n = input('add something')\n",
    "a = 1\n",
    "\n",
    "for i in n:\n",
    "    if i.isdigit():\n",
    "        a *= int(i)\n",
    "\n",
    "print(a)"
   ]
  }
 ],
 "metadata": {
  "kernelspec": {
   "display_name": "Python 3",
   "language": "python",
   "name": "python3"
  },
  "language_info": {
   "codemirror_mode": {
    "name": "ipython",
    "version": 3
   },
   "file_extension": ".py",
   "mimetype": "text/x-python",
   "name": "python",
   "nbconvert_exporter": "python",
   "pygments_lexer": "ipython3",
   "version": "3.10.11"
  }
 },
 "nbformat": 4,
 "nbformat_minor": 2
}
