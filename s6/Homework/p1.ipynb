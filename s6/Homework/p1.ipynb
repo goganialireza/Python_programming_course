{
 "cells": [
  {
   "cell_type": "code",
   "execution_count": null,
   "metadata": {},
   "outputs": [
    {
     "name": "stdout",
     "output_type": "stream",
     "text": [
      "210\n"
     ]
    }
   ],
   "source": [
    "#exercise 1\n",
    "#Write a program that multiplies all the values in a list\n",
    "\n",
    "a = [1, 5, 7, 6]\n",
    "b = 1\n",
    "\n",
    "for i in a:\n",
    "    b *= i\n",
    "    \n",
    "print(b)\n",
    "\n"
   ]
  },
  {
   "cell_type": "code",
   "execution_count": null,
   "metadata": {},
   "outputs": [
    {
     "name": "stdout",
     "output_type": "stream",
     "text": [
      "1\n",
      "5\n",
      "7\n",
      "1\n",
      "8\n",
      "7\n",
      "1\n",
      "[1, 5, 7, 8]\n"
     ]
    }
   ],
   "source": [
    "#exercise 2\n",
    "#Write a program that removes rapeated values ​​in a list\n",
    "\n",
    "a = [1, 5, 7, 1, 8, 7, 1]\n",
    "b = []\n",
    "\n",
    "\n",
    "for i in a:\n",
    "    #print(i)\n",
    "    if i not in b:\n",
    "        b.append(i)\n",
    "\n",
    "print(b)"
   ]
  },
  {
   "cell_type": "code",
   "execution_count": null,
   "metadata": {},
   "outputs": [
    {
     "name": "stdout",
     "output_type": "stream",
     "text": [
      "[4, 9]\n"
     ]
    }
   ],
   "source": [
    "#exercise 3\n",
    "#Write a program that takes 2 lists and outputs the common values ​​of the lists in a separate list\n",
    "#method 1\n",
    "\n",
    "a = [1, 4, 8, 9]\n",
    "b = [3, 7 ,4 ,5, 9]\n",
    "c = []\n",
    "\n",
    "for i in a:\n",
    "    if i in b:\n",
    "        c.append(i)\n",
    "\n",
    "print(c)"
   ]
  },
  {
   "cell_type": "code",
   "execution_count": null,
   "metadata": {},
   "outputs": [
    {
     "name": "stdout",
     "output_type": "stream",
     "text": [
      "[4, 9]\n"
     ]
    }
   ],
   "source": [
    "#exercise 3\n",
    "#Write a program that takes 2 lists and outputs the common values ​​of the lists in a separate list\n",
    "#method 2\n",
    "\n",
    "a = [1, 4, 8, 9]\n",
    "b = [3, 7 ,4 ,5, 9]\n",
    "c = []\n",
    "\n",
    "for i in a:\n",
    "    for j in b:\n",
    "        if i == j:\n",
    "            c.append(i)\n",
    "\n",
    "print(c)"
   ]
  },
  {
   "cell_type": "code",
   "execution_count": null,
   "metadata": {},
   "outputs": [
    {
     "name": "stdout",
     "output_type": "stream",
     "text": [
      "[1, 3, 1, 7, 1, 4, 1, 5, 1, 9]\n"
     ]
    }
   ],
   "source": [
    "#exercise 4\n",
    "#Write a program that takes 2 lists and outputs the non-common values ​​of the lists in a separate list\n",
    "\n",
    "#wrong code\n",
    "\n",
    "a = [1, 4, 8, 9]\n",
    "b = [3, 7 ,4 ,5, 9]\n",
    "c = []\n",
    "\n",
    "for i in a:\n",
    "    for j in b:\n",
    "        if i != j and  i not in c and j not in c:\n",
    "            c.append(i)\n",
    "            c.append(j)\n",
    "\n",
    "print(c)"
   ]
  },
  {
   "cell_type": "code",
   "execution_count": null,
   "metadata": {},
   "outputs": [
    {
     "name": "stdout",
     "output_type": "stream",
     "text": [
      "[1, 3, 4, 8, 9]\n"
     ]
    }
   ],
   "source": [
    "#exercise 4\n",
    "#Write a program that takes 2 lists and outputs the non-common values ​​of the lists in a separate list\n",
    "\n",
    "#wrong code\n",
    "\n",
    "a = [1, 4, 8, 9]\n",
    "b = [3, 7 ,4 ,5, 9]\n",
    "c = []\n",
    "\n",
    "for i in a:\n",
    "    for j in b:\n",
    "        if i == j:\n",
    "            continue\n",
    "        elif i != j and i not in c:\n",
    "            c.append(i)\n",
    "            if j not in c:\n",
    "                c.append(j)\n",
    "print(c)"
   ]
  },
  {
   "cell_type": "code",
   "execution_count": null,
   "metadata": {},
   "outputs": [
    {
     "name": "stdout",
     "output_type": "stream",
     "text": [
      "[1, 3, 1, 7, 1, 4, 1, 5, 1, 9, 4, 3, 4, 7, 4, 5, 4, 9, 8, 3, 8, 7, 8, 4, 8, 5, 8, 9, 9, 3, 9, 7, 9, 4, 9, 5]\n"
     ]
    }
   ],
   "source": [
    "#exercise 4\n",
    "#Write a program that takes 2 lists and outputs the non-common values ​​of the lists in a separate list\n",
    "\n",
    "#wrong code\n",
    "\n",
    "a = [1, 4, 8, 9]\n",
    "b = [3, 7 ,4 ,5, 9]\n",
    "c = []\n",
    "\n",
    "for i in a:\n",
    "    for j in b:\n",
    "        if i == j:\n",
    "            continue\n",
    "        else:\n",
    "            c.append(i)\n",
    "            c.append(j)\n",
    "\n",
    "print(c)"
   ]
  },
  {
   "cell_type": "code",
   "execution_count": null,
   "metadata": {},
   "outputs": [
    {
     "name": "stdout",
     "output_type": "stream",
     "text": [
      "[1, 4, 8, 9, 3, 7, 4, 5, 9]\n",
      "[1, 4, 8, 9, 3, 7, 5]\n"
     ]
    }
   ],
   "source": [
    "#exercise 4\n",
    "#Write a program that takes 2 lists and outputs the non-common values ​​of the lists in a separate list\n",
    "\n",
    "#wrong code\n",
    "\n",
    "a = [1, 4, 8, 9]\n",
    "b = [3, 7 ,4 ,5, 9]\n",
    "s = a + b\n",
    "print (s)\n",
    "c = []\n",
    "\n",
    "for i in s:\n",
    "    if i not in c:\n",
    "        c.append(i)\n",
    "\n",
    "print(c)"
   ]
  },
  {
   "cell_type": "code",
   "execution_count": null,
   "metadata": {},
   "outputs": [
    {
     "name": "stdout",
     "output_type": "stream",
     "text": [
      "[1, 8]\n"
     ]
    }
   ],
   "source": [
    "#exercise 4\n",
    "#Write a program that takes 2 lists and outputs the non-common values ​​of the lists in a separate list\n",
    "\n",
    "a = [1, 4, 8, 9]\n",
    "b = [3, 7 ,4 ,5, 9]\n",
    "s = a + b\n",
    "c = []\n",
    "\n",
    "\n",
    "for i in s:\n",
    "    if (i in a and i not in b) or (i in b and i not in a):\n",
    "        c.append(i)\n",
    "\n",
    "print()"
   ]
  },
  {
   "cell_type": "code",
   "execution_count": 56,
   "metadata": {},
   "outputs": [
    {
     "name": "stdout",
     "output_type": "stream",
     "text": [
      "['a', 'i', 'e']\n"
     ]
    }
   ],
   "source": [
    "#exercise 5\n",
    "#Write a program that takes a sentence and determines which vowels are present in that text,\n",
    "#Return the output in the form of a list and there is no duplicate value in this list\n",
    "\n",
    "a = 'alireza'\n",
    "b = ['a', 'e', 'i', 'u', 'o']   #same as b = 'aeiuo' \n",
    "c = []\n",
    "\n",
    "for i in a:\n",
    "    if i in b and i not in c:\n",
    "        c.append(i)\n",
    "\n",
    "print(c)"
   ]
  }
 ],
 "metadata": {
  "kernelspec": {
   "display_name": "Python 3",
   "language": "python",
   "name": "python3"
  },
  "language_info": {
   "codemirror_mode": {
    "name": "ipython",
    "version": 3
   },
   "file_extension": ".py",
   "mimetype": "text/x-python",
   "name": "python",
   "nbconvert_exporter": "python",
   "pygments_lexer": "ipython3",
   "version": "3.10.11"
  }
 },
 "nbformat": 4,
 "nbformat_minor": 2
}
