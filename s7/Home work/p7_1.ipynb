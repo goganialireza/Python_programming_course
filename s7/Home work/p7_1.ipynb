{
 "cells": [
  {
   "cell_type": "code",
   "execution_count": 1,
   "metadata": {},
   "outputs": [
    {
     "data": {
      "text/plain": [
       "5"
      ]
     },
     "execution_count": 1,
     "metadata": {},
     "output_type": "execute_result"
    }
   ],
   "source": [
    "a = 2\n",
    "b = 3\n",
    "c = a + b\n",
    "c"
   ]
  },
  {
   "cell_type": "code",
   "execution_count": 13,
   "metadata": {},
   "outputs": [
    {
     "name": "stdout",
     "output_type": "stream",
     "text": [
      "[1, 3, 5, 7, 9, 11, 13, 15, 17, 19, 21, 23, 25, 27, 29, 31, 33, 35, 37, 39, 41, 43, 45, 47, 49]\n",
      "[1, 3, 5, 7, 9, 11, 13, 15, 17, 19, 21, 23, 25, 27, 29, 31, 33, 35, 37, 39, 41, 43, 45, 47, 49, 3, 5, 9, 15, 21, 25, 27, 33, 35, 39, 45]\n"
     ]
    }
   ],
   "source": [
    "#exercise 2\n",
    "#Create a list of odd numbers between 0 and 50. Go through this list and append the numbers that are divisible by 5 or 3 to the end of the list\n",
    "\n",
    "a = []\n",
    "\n",
    "for i in range(50):\n",
    "    if i % 2 == 1:\n",
    "        a.append(i)\n",
    "\n",
    "print(a)\n",
    "\n",
    "\n",
    "b = a[:]\n",
    "\n",
    "for i in a:\n",
    "    if i % 3 == 0 or i % 5 == 0:\n",
    "        b.append(i)\n",
    "print(b)"
   ]
  },
  {
   "cell_type": "code",
   "execution_count": null,
   "metadata": {},
   "outputs": [
    {
     "name": "stdout",
     "output_type": "stream",
     "text": [
      "e\n"
     ]
    }
   ],
   "source": [
    "#test\n",
    "\n",
    "import random\n",
    "\n",
    "a =[]\n",
    "\n",
    "string = \"Hello\"\n",
    "b = random.choice(string)\n",
    "\n",
    "print(b) "
   ]
  },
  {
   "cell_type": "code",
   "execution_count": null,
   "metadata": {},
   "outputs": [
    {
     "name": "stdout",
     "output_type": "stream",
     "text": [
      "['hello', 'yello', 'hallo', 'hallo', 'mello', 'hello', 'hello', 'yello', 'hallo', 'mello', 'mello', 'yello', 'yello', 'hallo', 'mello', 'yello', 'yello', 'hallo', 'yello', 'yello', 'mello', 'yello', 'hello', 'hallo', 'mello', 'yello', 'hallo', 'hallo', 'mello', 'hallo', 'hallo', 'hallo', 'hello', 'mello', 'yello', 'hello', 'hallo', 'hallo', 'mello', 'mello', 'mello', 'hallo', 'hallo', 'yello', 'mello', 'yello', 'mello', 'mello', 'hello', 'yello', 'hello', 'yello', 'hello', 'hallo', 'hello', 'mello', 'hallo', 'hallo', 'hello', 'hallo', 'yello', 'yello', 'mello', 'hello', 'hello', 'yello', 'yello', 'hello', 'hello', 'hallo', 'mello', 'hallo', 'yello', 'hallo', 'hello', 'hallo', 'yello', 'hello', 'hallo', 'hello', 'hello', 'mello', 'yello', 'mello', 'hallo', 'mello', 'hello', 'mello', 'hello', 'hallo', 'yello', 'hallo', 'yello', 'hello', 'yello', 'yello', 'mello', 'hello', 'hello', 'mello']\n",
      "100\n"
     ]
    }
   ],
   "source": [
    "#exercise 3\n",
    "#Create a list of 100 items. For each list item, randomly select one of the following strings: hello, yello, mello, hallo \n",
    "#hint: you can use the random library and the choice function for this purpose \n",
    "\n",
    "import random\n",
    "\n",
    "a =[]\n",
    "b = ['hello', 'yello', 'mello', 'hallo']\n",
    "\n",
    "\n",
    "for i in range(100):\n",
    "    a.append(random.choice(b))\n",
    "\n",
    "print(a) \n",
    "print(len(a))"
   ]
  },
  {
   "cell_type": "code",
   "execution_count": null,
   "metadata": {},
   "outputs": [
    {
     "name": "stdout",
     "output_type": "stream",
     "text": [
      "['hello', 'hello', 'hello', 'hello', 'hello', 'hello', 'hello', 'hello', 'hello', 'hello', 'hello', 'hello', 'hello', 'yello', 'hello', 'hello', 'yello', 'hello', 'yello', 'hello', 'hello', 'hello', 'yello', 'hello', 'hello', 'yello', 'hallo', 'yello', 'hello', 'yello', 'yello', 'mello', 'hello', 'hello', 'mello']\n",
      "35\n"
     ]
    }
   ],
   "source": [
    "#exercise 4\n",
    "#In the list generated in the previous exercise, delete the items with misspellings (that is, any item that is not hello)\n",
    "\n",
    "#wrong code\n",
    "for i in a:\n",
    "    if i != 'hello':\n",
    "        a.remove(i)\n",
    "    \n",
    "print(a)\n",
    "print(len(a))"
   ]
  },
  {
   "cell_type": "code",
   "execution_count": null,
   "metadata": {},
   "outputs": [
    {
     "name": "stdout",
     "output_type": "stream",
     "text": [
      "['hello', 'hello', 'hello', 'hello', 'hello', 'hello', 'hello', 'hello', 'hello', 'hello', 'hello', 'hello', 'hello', 'hello', 'hello', 'hello', 'hello', 'hello', 'hello', 'hello', 'hello', 'hello', 'hello', 'hello']\n",
      "24\n"
     ]
    }
   ],
   "source": [
    "#exercise 4\n",
    "#In the list generated in the previous exercise, delete the items with misspellings (that is, any item that is not hello)\n",
    "\n",
    "c = []\n",
    "\n",
    "for i in a:\n",
    "    if i == 'hello':\n",
    "        c.append(i)\n",
    "\n",
    "print(c)\n",
    "print(len(c))"
   ]
  },
  {
   "cell_type": "code",
   "execution_count": 38,
   "metadata": {},
   "outputs": [
    {
     "name": "stdout",
     "output_type": "stream",
     "text": [
      "[('milk', 5), ('suger', 2), ('butter', 10), ('yogurt', 1), ('cheese', 3)]\n",
      "{'milk': 5, 'suger': 2, 'butter': 10, 'yogurt': 1, 'cheese': 3}\n"
     ]
    }
   ],
   "source": [
    "#exercise 5\n",
    "#Consider the following two lists, the first list contains the items needed for purchase and the second list contains the required amount.\n",
    "#Write a program that merges these two lists into a dictionary. The items in the first list are keys and the items in the second list are corresponding values.\n",
    "\n",
    "\n",
    "a = ['milk','suger','butter','yogurt','cheese']\n",
    "b = [5,2,10,1,3]\n",
    "\n",
    "\n",
    "l = list(zip(a, b))\n",
    "d = dict(zip(a, b))\n",
    "\n",
    "print(l)\n",
    "print(d)"
   ]
  },
  {
   "cell_type": "code",
   "execution_count": null,
   "metadata": {},
   "outputs": [
    {
     "name": "stdout",
     "output_type": "stream",
     "text": [
      "{'milk': 5}\n",
      "{'milk': 5, 'suger': 2}\n",
      "{'milk': 5, 'suger': 2, 'butter': 10}\n",
      "{'milk': 5, 'suger': 2, 'butter': 10, 'yogurt': 1}\n",
      "{'milk': 5, 'suger': 2, 'butter': 10, 'yogurt': 1, 'cheese': 3}\n"
     ]
    }
   ],
   "source": [
    "#exercise 5\n",
    "#Consider the following two lists, the first list contains the items needed for purchase and the second list contains the required amount.\n",
    "#Write a program that merges these two lists into a dictionary. The items in the first list are keys and the items in the second list are corresponding values.\n",
    "\n",
    "\n",
    "a = ['milk','suger','butter','yogurt','cheese']\n",
    "b = [5,2,10,1,3]\n",
    "c = {}\n",
    "\n",
    "for i in range(len(a)):\n",
    "    c[a[i]] = b[i]\n",
    "    print(c)\n",
    "\n"
   ]
  },
  {
   "cell_type": "code",
   "execution_count": 49,
   "metadata": {},
   "outputs": [
    {
     "name": "stdout",
     "output_type": "stream",
     "text": [
      "dict_values([5, 2, 10, 1, 3])\n",
      "10\n",
      "1\n"
     ]
    }
   ],
   "source": [
    "c = {'milk': 5, 'suger': 2, 'butter': 10, 'yogurt': 1, 'cheese': 3}\n",
    "\n",
    "f = c.values()\n",
    "print(f)\n",
    "print(max(f))\n",
    "print(min(f))"
   ]
  },
  {
   "cell_type": "code",
   "execution_count": 50,
   "metadata": {},
   "outputs": [
    {
     "ename": "ValueError",
     "evalue": "too many values to unpack (expected 2)",
     "output_type": "error",
     "traceback": [
      "\u001b[1;31m---------------------------------------------------------------------------\u001b[0m",
      "\u001b[1;31mValueError\u001b[0m                                Traceback (most recent call last)",
      "Cell \u001b[1;32mIn[50], line 3\u001b[0m\n\u001b[0;32m      1\u001b[0m c \u001b[38;5;241m=\u001b[39m {\u001b[38;5;124m'\u001b[39m\u001b[38;5;124mmilk\u001b[39m\u001b[38;5;124m'\u001b[39m: \u001b[38;5;241m5\u001b[39m, \u001b[38;5;124m'\u001b[39m\u001b[38;5;124msuger\u001b[39m\u001b[38;5;124m'\u001b[39m: \u001b[38;5;241m2\u001b[39m, \u001b[38;5;124m'\u001b[39m\u001b[38;5;124mbutter\u001b[39m\u001b[38;5;124m'\u001b[39m: \u001b[38;5;241m10\u001b[39m, \u001b[38;5;124m'\u001b[39m\u001b[38;5;124myogurt\u001b[39m\u001b[38;5;124m'\u001b[39m: \u001b[38;5;241m1\u001b[39m, \u001b[38;5;124m'\u001b[39m\u001b[38;5;124mcheese\u001b[39m\u001b[38;5;124m'\u001b[39m: \u001b[38;5;241m3\u001b[39m}\n\u001b[1;32m----> 3\u001b[0m \u001b[38;5;28;01mfor\u001b[39;00m i, j \u001b[38;5;129;01min\u001b[39;00m c:\n\u001b[0;32m      4\u001b[0m     \u001b[38;5;28mprint\u001b[39m(i)\n",
      "\u001b[1;31mValueError\u001b[0m: too many values to unpack (expected 2)"
     ]
    }
   ],
   "source": [
    "c = {'milk': 5, 'suger': 2, 'butter': 10, 'yogurt': 1, 'cheese': 3}\n",
    "\n",
    "for i, j in c:\n",
    "    print(i)"
   ]
  },
  {
   "cell_type": "code",
   "execution_count": 57,
   "metadata": {},
   "outputs": [
    {
     "name": "stdout",
     "output_type": "stream",
     "text": [
      "{'Python': 1, 'is': 1, 'a': 1, 'high-level,': 1, 'general-purpose': 1, 'programming': 1, 'language.': 1, 'Its': 1, 'design': 1, 'philosophy': 1, 'emphasizes': 1, 'code': 1, 'readability': 1, 'with': 1, 'the': 1, 'use': 1, 'of': 1, 'significant': 1, 'indentation.': 1, 'dynamically': 1, 'typed': 1, 'and': 1, 'garbage-collected.': 1, 'It': 1, 'supports': 1, 'multiple': 1, 'paradigms,': 1, 'including': 1, 'structured,': 1, 'object-oriented': 1, 'functional': 1, 'programming.': 1}\n"
     ]
    }
   ],
   "source": [
    "s = '''Python is a high-level, general-purpose programming language. Its design philosophy emphasizes code readability with the use of significant indentation. \n",
    "Python is dynamically typed and garbage-collected. It supports multiple programming paradigms, including structured, object-oriented and functional programming.'''\n",
    "\n",
    "b = s.split()\n",
    "c = {}\n",
    "\n",
    "for i in b:\n",
    "    c[i] = 0\n",
    "    if i in c:\n",
    "        c[i] += 1\n",
    "\n",
    "print(c)"
   ]
  },
  {
   "cell_type": "code",
   "execution_count": null,
   "metadata": {},
   "outputs": [
    {
     "name": "stdout",
     "output_type": "stream",
     "text": [
      "{'Python': 1, 'is': 1, 'a': 1, 'high-level,': 1, 'general-purpose': 1, 'programming': 1, 'language.': 1, 'Its': 1, 'design': 1, 'philosophy': 1, 'emphasizes': 1, 'code': 1, 'readability': 1, 'with': 1, 'the': 1, 'use': 1, 'of': 1, 'significant': 1, 'indentation.': 1, 'dynamically': 1, 'typed': 1, 'and': 1, 'garbage-collected.': 1, 'It': 1, 'supports': 1, 'multiple': 1, 'paradigms,': 1, 'including': 1, 'structured,': 1, 'object-oriented': 1, 'functional': 1, 'programming.': 1}\n"
     ]
    }
   ],
   "source": [
    "s = '''Python is a high-level, general-purpose programming language. Its design philosophy emphasizes code readability with the use of significant indentation. \n",
    "Python is dynamically typed and garbage-collected. It supports multiple programming paradigms, including structured, object-oriented and functional programming.'''\n",
    "\n",
    "b = s.split()\n",
    "c = {}\n",
    "\n",
    "for i in b:\n",
    "    if i in c:\n",
    "        c[i] += 1  # If the word is already in the dictionary, increment its count\n",
    "    else:\n",
    "        c[i] = 1  # If the word is not in the dictionary, initialize its count to 1\n",
    "\n",
    "print(c)"
   ]
  }
 ],
 "metadata": {
  "kernelspec": {
   "display_name": "Python 3",
   "language": "python",
   "name": "python3"
  },
  "language_info": {
   "codemirror_mode": {
    "name": "ipython",
    "version": 3
   },
   "file_extension": ".py",
   "mimetype": "text/x-python",
   "name": "python",
   "nbconvert_exporter": "python",
   "pygments_lexer": "ipython3",
   "version": "3.10.11"
  }
 },
 "nbformat": 4,
 "nbformat_minor": 2
}
