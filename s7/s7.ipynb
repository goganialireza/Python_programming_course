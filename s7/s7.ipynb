{
 "cells": [
  {
   "cell_type": "code",
   "execution_count": null,
   "metadata": {},
   "outputs": [
    {
     "data": {
      "text/plain": [
       "[500, 4, 3, 200]"
      ]
     },
     "execution_count": 23,
     "metadata": {},
     "output_type": "execute_result"
    }
   ],
   "source": [
    "c = [5,4,3]\n",
    "x = c\n",
    "\n",
    "x[0] = 500\n",
    "x\n",
    "x.append(200)\n",
    "x"
   ]
  },
  {
   "cell_type": "code",
   "execution_count": 24,
   "metadata": {},
   "outputs": [
    {
     "data": {
      "text/plain": [
       "[500, 4, 3, 200]"
      ]
     },
     "execution_count": 24,
     "metadata": {},
     "output_type": "execute_result"
    }
   ],
   "source": [
    "c"
   ]
  },
  {
   "cell_type": "code",
   "execution_count": 27,
   "metadata": {},
   "outputs": [
    {
     "data": {
      "text/plain": [
       "2"
      ]
     },
     "execution_count": 27,
     "metadata": {},
     "output_type": "execute_result"
    }
   ],
   "source": [
    "a = 2\n",
    "b = a\n",
    "\n",
    "b += 2\n",
    "a"
   ]
  },
  {
   "cell_type": "code",
   "execution_count": null,
   "metadata": {},
   "outputs": [
    {
     "data": {
      "text/plain": [
       "[5, 4, 3]"
      ]
     },
     "execution_count": 30,
     "metadata": {},
     "output_type": "execute_result"
    }
   ],
   "source": [
    "# x and c are lists, in a list if we change something in x the items in c will also change.\n",
    "# a and b are variables, in a variable if we change something in a the value in b will not change.\n",
    "\n",
    "#in order to solve this in lists: we need to 1. slice it 2. copy it\n",
    "#1. slice\n",
    "c = [5,4,3]\n",
    "x = c[:]\n",
    "\n",
    "x.append(200)\n",
    "c"
   ]
  },
  {
   "cell_type": "code",
   "execution_count": null,
   "metadata": {},
   "outputs": [],
   "source": [
    "#2.copy\n",
    "\n",
    "a = c.copy()\n",
    "\n",
    "#harkari ru c bokonim ru a etefagh nemiyofte amd har kari ru a bokonim ru c miyofte"
   ]
  },
  {
   "cell_type": "code",
   "execution_count": 33,
   "metadata": {},
   "outputs": [
    {
     "data": {
      "text/plain": [
       "[5, 4, [8, 9, 10, 5000], 50]"
      ]
     },
     "execution_count": 33,
     "metadata": {},
     "output_type": "execute_result"
    }
   ],
   "source": [
    "c = [5,4,[8,9,10],50]\n",
    "a = c.copy()\n",
    "\n",
    "a[2].append(5000)\n",
    "c"
   ]
  },
  {
   "cell_type": "code",
   "execution_count": 37,
   "metadata": {},
   "outputs": [
    {
     "data": {
      "text/plain": [
       "[5, 4, [8, 9, 10], 50]"
      ]
     },
     "execution_count": 37,
     "metadata": {},
     "output_type": "execute_result"
    }
   ],
   "source": [
    "#in order t solve it we use deepcopy\n",
    "\n",
    "from copy import deepcopy\n",
    "\n",
    "c = [5,4,[8,9,10],50]\n",
    "a = deepcopy(c)\n",
    "\n",
    "a[2].append(5000)\n",
    "c"
   ]
  },
  {
   "cell_type": "code",
   "execution_count": 45,
   "metadata": {},
   "outputs": [
    {
     "data": {
      "text/plain": [
       "{4, 5, 6, 7, 8}"
      ]
     },
     "execution_count": 45,
     "metadata": {},
     "output_type": "execute_result"
    }
   ],
   "source": [
    "#set\n",
    "#set removes the repeatitive items\n",
    "\n",
    "s = {5,4,5,6,8,4,7,8,8,8,8}\n",
    "s"
   ]
  },
  {
   "cell_type": "code",
   "execution_count": 46,
   "metadata": {},
   "outputs": [
    {
     "data": {
      "text/plain": [
       "True"
      ]
     },
     "execution_count": 46,
     "metadata": {},
     "output_type": "execute_result"
    }
   ],
   "source": [
    "{4, 5, 6, 45} == {45, 5, 6, 4} "
   ]
  },
  {
   "cell_type": "code",
   "execution_count": null,
   "metadata": {},
   "outputs": [
    {
     "name": "stdout",
     "output_type": "stream",
     "text": [
      "{4, 5, 6}\n",
      "{4, 5, 6, 7, 8, 45}\n",
      "{45}\n"
     ]
    }
   ],
   "source": [
    "s = {5,4,5,6,8,4,7,8,8,8,8}\n",
    "d = set([5,4,5,6,5,45,5])  #the function 'set' invert everything to set (for example here it inverted a list to a set)\n",
    "\n",
    "x = d.intersection(s) #eshterak\n",
    "y = d.union(s) #ejtema\n",
    "z = d - s #hazfe eshterak\n",
    "print(x)\n",
    "print(y)\n",
    "print(z)"
   ]
  },
  {
   "cell_type": "code",
   "execution_count": null,
   "metadata": {},
   "outputs": [
    {
     "ename": "KeyError",
     "evalue": "'o'",
     "output_type": "error",
     "traceback": [
      "\u001b[1;31m---------------------------------------------------------------------------\u001b[0m",
      "\u001b[1;31mKeyError\u001b[0m                                  Traceback (most recent call last)",
      "Cell \u001b[1;32mIn[47], line 9\u001b[0m\n\u001b[0;32m      7\u001b[0m \u001b[38;5;28;01mfor\u001b[39;00m i \u001b[38;5;129;01min\u001b[39;00m s:\n\u001b[0;32m      8\u001b[0m     \u001b[38;5;28;01mif\u001b[39;00m i \u001b[38;5;129;01min\u001b[39;00m v:\n\u001b[1;32m----> 9\u001b[0m         d[i] \u001b[38;5;241m+\u001b[39m\u001b[38;5;241m=\u001b[39m \u001b[38;5;241m1\u001b[39m\n\u001b[0;32m     10\u001b[0m d\n",
      "\u001b[1;31mKeyError\u001b[0m: 'o'"
     ]
    }
   ],
   "source": [
    "s = '''Python is a high-level, general-purpose programming language. Its design philosophy emphasizes code readability with the use of significant indentation. \n",
    "Python is dynamically typed and garbage-collected. It supports multiple programming paradigms, including structured, object-oriented and functional programming.'''\n",
    "\n",
    "v = 'aeuio'\n",
    "d = {}\n",
    "\n",
    "for i in s:\n",
    "    if i in v:\n",
    "        d[i] += 1\n",
    "d\n",
    "\n",
    "#the reason for error: aslan o vjud nadare hanuz dar dictionary k bekhad 1 vahed b oun ezafe kone"
   ]
  },
  {
   "cell_type": "code",
   "execution_count": null,
   "metadata": {},
   "outputs": [
    {
     "data": {
      "text/plain": [
       "{'a': 21, 'e': 23, 'u': 9, 'i': 24, 'o': 16}"
      ]
     },
     "execution_count": 48,
     "metadata": {},
     "output_type": "execute_result"
    }
   ],
   "source": [
    "# method 1\n",
    "\n",
    "s = '''Python is a high-level, general-purpose programming language. Its design philosophy emphasizes code readability with the use of significant indentation. \n",
    "Python is dynamically typed and garbage-collected. It supports multiple programming paradigms, including structured, object-oriented and functional programming.'''\n",
    "\n",
    "v = 'aeuio'\n",
    "d = {}\n",
    "\n",
    "for i in v:\n",
    "        d[i] = 0 #first we made the keys in the dictionary\n",
    "for i in s:\n",
    "    if i in v:\n",
    "        d[i] += 1 #then we add the values to those keys\n",
    "d"
   ]
  },
  {
   "cell_type": "code",
   "execution_count": 49,
   "metadata": {},
   "outputs": [
    {
     "data": {
      "text/plain": [
       "{'o': 16, 'i': 24, 'a': 21, 'e': 23, 'u': 9}"
      ]
     },
     "execution_count": 49,
     "metadata": {},
     "output_type": "execute_result"
    }
   ],
   "source": [
    "# method 2\n",
    "\n",
    "s = '''Python is a high-level, general-purpose programming language. Its design philosophy emphasizes code readability with the use of significant indentation. \n",
    "Python is dynamically typed and garbage-collected. It supports multiple programming paradigms, including structured, object-oriented and functional programming.'''\n",
    "\n",
    "v = 'aeuio'\n",
    "d2 = {}\n",
    "\n",
    "for i in s:\n",
    "    if i in v:\n",
    "        if i not in d2:\n",
    "            d2[i] = 0\n",
    "        d2[i] += 1\n",
    "d2"
   ]
  },
  {
   "cell_type": "code",
   "execution_count": null,
   "metadata": {},
   "outputs": [
    {
     "data": {
      "text/plain": [
       "{'o': 16, 'i': 24, 'a': 21, 'e': 23, 'u': 9}"
      ]
     },
     "execution_count": 50,
     "metadata": {},
     "output_type": "execute_result"
    }
   ],
   "source": [
    "# method 3\n",
    "\n",
    "s = '''Python is a high-level, general-purpose programming language. Its design philosophy emphasizes code readability with the use of significant indentation. \n",
    "Python is dynamically typed and garbage-collected. It supports multiple programming paradigms, including structured, object-oriented and functional programming.'''\n",
    "\n",
    "v = 'aeuio'\n",
    "d3 = {}\n",
    "\n",
    "for i in s:\n",
    "    if i in v:\n",
    "        d3.setdefault(i,0)\n",
    "        d3[i] += 1\n",
    "d3"
   ]
  },
  {
   "cell_type": "code",
   "execution_count": 52,
   "metadata": {},
   "outputs": [
    {
     "data": {
      "text/plain": [
       "True"
      ]
     },
     "execution_count": 52,
     "metadata": {},
     "output_type": "execute_result"
    }
   ],
   "source": [
    "#check\n",
    "\n",
    "d == d2 == d3"
   ]
  },
  {
   "cell_type": "code",
   "execution_count": 53,
   "metadata": {},
   "outputs": [
    {
     "data": {
      "text/plain": [
       "16"
      ]
     },
     "execution_count": 53,
     "metadata": {},
     "output_type": "execute_result"
    }
   ],
   "source": [
    "d['o']"
   ]
  },
  {
   "cell_type": "code",
   "execution_count": 57,
   "metadata": {},
   "outputs": [
    {
     "name": "stdout",
     "output_type": "stream",
     "text": [
      "a\n",
      "e\n",
      "u\n",
      "i\n",
      "o\n"
     ]
    },
    {
     "data": {
      "text/plain": [
       "dict_keys(['a', 'e', 'u', 'i', 'o'])"
      ]
     },
     "execution_count": 57,
     "metadata": {},
     "output_type": "execute_result"
    }
   ],
   "source": [
    "#printing keys\n",
    "\n",
    "for k in d:\n",
    "    print(k)\n",
    "\n",
    "# or\n",
    "d.keys()"
   ]
  },
  {
   "cell_type": "code",
   "execution_count": 58,
   "metadata": {},
   "outputs": [
    {
     "name": "stdout",
     "output_type": "stream",
     "text": [
      "21\n",
      "23\n",
      "9\n",
      "24\n",
      "16\n"
     ]
    },
    {
     "data": {
      "text/plain": [
       "dict_values([21, 23, 9, 24, 16])"
      ]
     },
     "execution_count": 58,
     "metadata": {},
     "output_type": "execute_result"
    }
   ],
   "source": [
    "#printing values\n",
    "\n",
    "for k in d:\n",
    "    print(d[k])\n",
    "\n",
    "#or\n",
    "d.values()"
   ]
  },
  {
   "cell_type": "code",
   "execution_count": null,
   "metadata": {},
   "outputs": [
    {
     "data": {
      "text/plain": [
       "{'a': 21, 'e': 23, 'u': 9, 'i': 24, 'o': 16}"
      ]
     },
     "execution_count": 67,
     "metadata": {},
     "output_type": "execute_result"
    }
   ],
   "source": [
    "#printing keys and values\n",
    "\n",
    "d.items()\n"
   ]
  },
  {
   "cell_type": "code",
   "execution_count": null,
   "metadata": {},
   "outputs": [],
   "source": [
    "#convert to list\n",
    "e = list(d.items())\n",
    "e\n",
    "#convert to dic\n",
    "dict(e)"
   ]
  },
  {
   "cell_type": "code",
   "execution_count": 1,
   "metadata": {},
   "outputs": [
    {
     "name": "stdout",
     "output_type": "stream",
     "text": [
      "{'P': 2, 'y': 7, 't': 19, 'h': 9, 'o': 16, 'n': 21, ' ': 35, 'i': 24, 's': 14, 'a': 21, 'g': 16, '-': 4, 'l': 14, 'e': 23, 'v': 1, ',': 3, 'r': 15, 'p': 13, 'u': 9, 'm': 10, '.': 4, 'I': 2, 'd': 13, 'z': 1, 'c': 9, 'b': 3, 'w': 1, 'f': 3, '\\n': 1, 'j': 1}\n"
     ]
    }
   ],
   "source": [
    "s = '''Python is a high-level, general-purpose programming language. Its design philosophy emphasizes code readability with the use of significant indentation. \n",
    "Python is dynamically typed and garbage-collected. It supports multiple programming paradigms, including structured, object-oriented and functional programming.'''\n",
    "\n",
    "d = {}\n",
    "\n",
    "for i in s:\n",
    "    d[i] = s.count(i)\n",
    "\n",
    "print(d)"
   ]
  },
  {
   "cell_type": "code",
   "execution_count": 2,
   "metadata": {},
   "outputs": [
    {
     "data": {
      "text/plain": [
       "{'P': 2,\n",
       " 'y': 7,\n",
       " 't': 19,\n",
       " 'h': 9,\n",
       " 'o': 16,\n",
       " 'n': 21,\n",
       " ' ': 35,\n",
       " 'i': 24,\n",
       " 's': 14,\n",
       " 'a': 21,\n",
       " 'g': 16,\n",
       " '-': 4,\n",
       " 'l': 14,\n",
       " 'e': 23,\n",
       " 'v': 1,\n",
       " ',': 3,\n",
       " 'r': 15,\n",
       " 'p': 13,\n",
       " 'u': 9,\n",
       " 'm': 10,\n",
       " '.': 4,\n",
       " 'I': 2,\n",
       " 'd': 13,\n",
       " 'z': 1,\n",
       " 'c': 9,\n",
       " 'b': 3,\n",
       " 'w': 1,\n",
       " 'f': 3,\n",
       " '\\n': 1,\n",
       " 'j': 1}"
      ]
     },
     "execution_count": 2,
     "metadata": {},
     "output_type": "execute_result"
    }
   ],
   "source": [
    "s = '''Python is a high-level, general-purpose programming language. Its design philosophy emphasizes code readability with the use of significant indentation. \n",
    "Python is dynamically typed and garbage-collected. It supports multiple programming paradigms, including structured, object-oriented and functional programming.'''\n",
    "\n",
    "d = {}\n",
    "\n",
    "for i in s:\n",
    "    d[i] = s.count(i)\n",
    "\n",
    "d"
   ]
  },
  {
   "cell_type": "code",
   "execution_count": null,
   "metadata": {},
   "outputs": [
    {
     "data": {
      "text/plain": [
       "['Python',\n",
       " 'is',\n",
       " 'a',\n",
       " 'high-level,',\n",
       " 'general-purpose',\n",
       " 'programming',\n",
       " 'language.',\n",
       " 'Its',\n",
       " 'design',\n",
       " 'philosophy',\n",
       " 'emphasizes',\n",
       " 'code',\n",
       " 'readability',\n",
       " 'with',\n",
       " 'the',\n",
       " 'use',\n",
       " 'of',\n",
       " 'significant',\n",
       " 'indentation.',\n",
       " 'Python',\n",
       " 'is',\n",
       " 'dynamically',\n",
       " 'typed',\n",
       " 'and',\n",
       " 'garbage-collected.',\n",
       " 'It',\n",
       " 'supports',\n",
       " 'multiple',\n",
       " 'programming',\n",
       " 'paradigms,',\n",
       " 'including',\n",
       " 'structured,',\n",
       " 'object-oriented',\n",
       " 'and',\n",
       " 'functional',\n",
       " 'programming.']"
      ]
     },
     "execution_count": 5,
     "metadata": {},
     "output_type": "execute_result"
    }
   ],
   "source": [
    "s = '''Python is a high-level, general-purpose programming language. Its design philosophy emphasizes code readability with the use of significant indentation. \n",
    "Python is dynamically typed and garbage-collected. It supports multiple programming paradigms, including structured, object-oriented and functional programming.'''\n",
    "\n",
    "s.split()"
   ]
  },
  {
   "cell_type": "code",
   "execution_count": 4,
   "metadata": {},
   "outputs": [
    {
     "data": {
      "text/plain": [
       "36"
      ]
     },
     "execution_count": 4,
     "metadata": {},
     "output_type": "execute_result"
    }
   ],
   "source": [
    "len(s.split())"
   ]
  },
  {
   "cell_type": "code",
   "execution_count": 8,
   "metadata": {},
   "outputs": [
    {
     "data": {
      "text/plain": [
       "'11'"
      ]
     },
     "execution_count": 8,
     "metadata": {},
     "output_type": "execute_result"
    }
   ],
   "source": [
    "date = '08/11/2024'\n",
    "\n",
    "date.split('/') #it means: split the value of date variable based on '/' and add it to a list\n",
    "date.split('/')[1]"
   ]
  },
  {
   "cell_type": "code",
   "execution_count": 18,
   "metadata": {},
   "outputs": [
    {
     "data": {
      "text/plain": [
       "'08*11*2024'"
      ]
     },
     "execution_count": 18,
     "metadata": {},
     "output_type": "execute_result"
    }
   ],
   "source": [
    "#if items of a list are strings, we can join them by .join() method\n",
    "\n",
    "date = '08/11/2024'\n",
    "d = date.split('/')\n",
    "\n",
    "'*'.join(d)\n"
   ]
  },
  {
   "cell_type": "code",
   "execution_count": 20,
   "metadata": {},
   "outputs": [
    {
     "data": {
      "text/plain": [
       "['08', '11', '2024']"
      ]
     },
     "execution_count": 20,
     "metadata": {},
     "output_type": "execute_result"
    }
   ],
   "source": [
    "d"
   ]
  }
 ],
 "metadata": {
  "kernelspec": {
   "display_name": "Python 3",
   "language": "python",
   "name": "python3"
  },
  "language_info": {
   "codemirror_mode": {
    "name": "ipython",
    "version": 3
   },
   "file_extension": ".py",
   "mimetype": "text/x-python",
   "name": "python",
   "nbconvert_exporter": "python",
   "pygments_lexer": "ipython3",
   "version": "3.10.11"
  }
 },
 "nbformat": 4,
 "nbformat_minor": 2
}
